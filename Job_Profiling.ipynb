{
 "cells": [
  {
   "cell_type": "markdown",
   "metadata": {},
   "source": [
    "# Transfer Learning Job Profiles\n",
    "\n",
    "The following graphs and statistics capture the profile of the transfer learning experiments."
   ]
  },
  {
   "cell_type": "code",
   "execution_count": 257,
   "metadata": {},
   "outputs": [],
   "source": [
    "# NOTEBOOK VARIABLES\n",
    "\n",
    "experiment = \"unsharded_2\"\n",
    "clusters_file = \"clusters.csv\""
   ]
  },
  {
   "cell_type": "code",
   "execution_count": 258,
   "metadata": {},
   "outputs": [
    {
     "data": {
      "text/html": [
       "<div>\n",
       "<style scoped>\n",
       "    .dataframe tbody tr th:only-of-type {\n",
       "        vertical-align: middle;\n",
       "    }\n",
       "\n",
       "    .dataframe tbody tr th {\n",
       "        vertical-align: top;\n",
       "    }\n",
       "\n",
       "    .dataframe thead th {\n",
       "        text-align: right;\n",
       "    }\n",
       "</style>\n",
       "<table border=\"1\" class=\"dataframe\">\n",
       "  <thead>\n",
       "    <tr style=\"text-align: right;\">\n",
       "      <th></th>\n",
       "      <th>gis_join</th>\n",
       "      <th>iterations</th>\n",
       "      <th>is_center</th>\n",
       "    </tr>\n",
       "  </thead>\n",
       "  <tbody>\n",
       "    <tr>\n",
       "      <th>0</th>\n",
       "      <td>G0500330</td>\n",
       "      <td>1</td>\n",
       "      <td>True</td>\n",
       "    </tr>\n",
       "    <tr>\n",
       "      <th>1</th>\n",
       "      <td>G5600050</td>\n",
       "      <td>1</td>\n",
       "      <td>True</td>\n",
       "    </tr>\n",
       "    <tr>\n",
       "      <th>2</th>\n",
       "      <td>G4600870</td>\n",
       "      <td>1</td>\n",
       "      <td>True</td>\n",
       "    </tr>\n",
       "    <tr>\n",
       "      <th>3</th>\n",
       "      <td>G5400770</td>\n",
       "      <td>1</td>\n",
       "      <td>True</td>\n",
       "    </tr>\n",
       "    <tr>\n",
       "      <th>4</th>\n",
       "      <td>G4100070</td>\n",
       "      <td>1</td>\n",
       "      <td>True</td>\n",
       "    </tr>\n",
       "    <tr>\n",
       "      <th>...</th>\n",
       "      <td>...</td>\n",
       "      <td>...</td>\n",
       "      <td>...</td>\n",
       "    </tr>\n",
       "    <tr>\n",
       "      <th>3060</th>\n",
       "      <td>G2601170</td>\n",
       "      <td>1</td>\n",
       "      <td>False</td>\n",
       "    </tr>\n",
       "    <tr>\n",
       "      <th>3061</th>\n",
       "      <td>G1800650</td>\n",
       "      <td>1</td>\n",
       "      <td>False</td>\n",
       "    </tr>\n",
       "    <tr>\n",
       "      <th>3062</th>\n",
       "      <td>G3901730</td>\n",
       "      <td>1</td>\n",
       "      <td>False</td>\n",
       "    </tr>\n",
       "    <tr>\n",
       "      <th>3063</th>\n",
       "      <td>G3900110</td>\n",
       "      <td>1</td>\n",
       "      <td>False</td>\n",
       "    </tr>\n",
       "    <tr>\n",
       "      <th>3064</th>\n",
       "      <td>G1700910</td>\n",
       "      <td>1</td>\n",
       "      <td>False</td>\n",
       "    </tr>\n",
       "  </tbody>\n",
       "</table>\n",
       "<p>3065 rows × 3 columns</p>\n",
       "</div>"
      ],
      "text/plain": [
       "      gis_join  iterations  is_center\n",
       "0     G0500330           1       True\n",
       "1     G5600050           1       True\n",
       "2     G4600870           1       True\n",
       "3     G5400770           1       True\n",
       "4     G4100070           1       True\n",
       "...        ...         ...        ...\n",
       "3060  G2601170           1      False\n",
       "3061  G1800650           1      False\n",
       "3062  G3901730           1      False\n",
       "3063  G3900110           1      False\n",
       "3064  G1700910           1      False\n",
       "\n",
       "[3065 rows x 3 columns]"
      ]
     },
     "execution_count": 258,
     "metadata": {},
     "output_type": "execute_result"
    }
   ],
   "source": [
    "import pandas as pd\n",
    "import matplotlib.pyplot as plt\n",
    "import datetime\n",
    "\n",
    "dir_prefix = \"experiment_data/job_profiles\"\n",
    "clusters_df = pd.read_csv(f\"{dir_prefix}/{clusters_file}\", header=0)\n",
    "tasks_df = pd.read_csv(f\"{dir_prefix}/{experiment}.csv\", header=1)\n",
    "iterations_df = pd.read_csv(f\"{dir_prefix}/{experiment}_iterations.csv\", header=0)\n",
    "\n",
    "iterations_df"
   ]
  },
  {
   "cell_type": "code",
   "execution_count": 215,
   "metadata": {},
   "outputs": [],
   "source": [
    "def human_time(difference_ms):\n",
    "    return datetime.timedelta(milliseconds=difference_ms)\n",
    "\n",
    "class Cluster:\n",
    "    \n",
    "    def __init__(self, cluster_id):\n",
    "        self.id = cluster_id\n",
    "        self.gis_joins = []\n",
    "        self.center_gis_join = \"\"\n",
    "        \n",
    "\n",
    "class Task:\n",
    "    \n",
    "    def __init__(self, task_id, name, begin, end, time_seconds, gis_join=\"\", cluster_id=-1):\n",
    "        self.id = task_id\n",
    "        self.name = name\n",
    "        self.begin = begin\n",
    "        self.end = end\n",
    "        self.time_seconds = time_seconds\n",
    "        self.gis_join = gis_join\n",
    "        self.cluster_id = cluster_id\n",
    "        \n",
    "    def __repr__(self):\n",
    "        return repr(f\"Task: id={self.id}, name={self.name}, begin={self.begin}, end={self.end}, time_seconds={self.time_seconds}\")\n",
    "    \n",
    "    \n",
    "class CentroidModelTasks:\n",
    "    \n",
    "    def __init__(self):\n",
    "        self.run_tasks = []\n",
    "        self.checkpoint_tasks = []\n",
    "        self.fit_tasks = []\n",
    "        self.evaluate_tasks = []\n",
    "        \n",
    "        \n",
    "class ClusterLRModelTasks:\n",
    "    \n",
    "    def __init__(self):\n",
    "        self.run_tasks = {}\n",
    "        self.persist_tasks = {}\n",
    "        self.checkpoint_tasks = {}\n",
    "        self.fit_tasks = {}\n",
    "        self.evaluate_tasks = {}\n",
    "        \n",
    "        "
   ]
  },
  {
   "cell_type": "code",
   "execution_count": 216,
   "metadata": {},
   "outputs": [],
   "source": [
    "experiment = None\n",
    "centroid_model_tasks = CentroidModelTasks()\n",
    "cluster_lr_model_tasks = ClusterLRModelTasks()\n",
    "clusters = {}"
   ]
  },
  {
   "cell_type": "code",
   "execution_count": 217,
   "metadata": {},
   "outputs": [],
   "source": [
    "for i, row in clusters_df.iterrows():\n",
    "    cluster_id = row[\"cluster_id\"]\n",
    "    if cluster_id not in clusters:\n",
    "        clusters[cluster_id] = Cluster(cluster_id)\n",
    "    \n",
    "    if row[\"is_center\"]:\n",
    "        clusters[cluster_id].center_gis_join = row[\"gis_join\"]\n",
    "    else:\n",
    "        clusters[cluster_id].gis_joins.append(row[\"gis_join\"])\n",
    "        "
   ]
  },
  {
   "cell_type": "code",
   "execution_count": 218,
   "metadata": {},
   "outputs": [
    {
     "data": {
      "image/png": "[encoded data removed]",
      "text/plain": [
       "<Figure size 864x504 with 1 Axes>"
      ]
     },
     "metadata": {
      "needs_background": "light"
     },
     "output_type": "display_data"
    }
   ],
   "source": [
    "# ---- Plot Clusters Bar Chart -----\n",
    "\n",
    "cluster_sizes = [len(clusters[cluster_id].gis_joins)+1 for cluster_id in clusters]\n",
    "plt.figure(figsize=(12,7))\n",
    "plt.bar(range(0, len(clusters)), cluster_sizes)\n",
    "plt.title(\"Cluster Sizes, K = 56\")\n",
    "plt.xlabel(\"Cluster Id\")\n",
    "plt.ylabel(\"GISJoin Count\")\n",
    "plt.show()"
   ]
  },
  {
   "cell_type": "code",
   "execution_count": 219,
   "metadata": {},
   "outputs": [],
   "source": [
    "for i, row in tasks_df.iterrows():\n",
    "    if (i == 0):\n",
    "        experiment = Task(i, row[\"name\"], row[\"begin\"], row[\"end\"], row[\"time_seconds\"])\n",
    "    else:\n",
    "        parts = row[\"name\"].split(\";\")\n",
    "        task_type = parts[0]\n",
    "        task_name = parts[1]\n",
    "        task_gis_join = parts[2][len(\"gisJoin=\")+1:]\n",
    "        task_cluster_id = str(parts[3][len(\"clusterId=\"):])\n",
    "        \n",
    "        new_task = Task(i, task_name, row[\"begin\"], row[\"end\"], row[\"time_seconds\"], \n",
    "                        gis_join=task_gis_join, cluster_id=task_cluster_id)\n",
    "        \n",
    "        if (task_type == \"CentroidModel\"):\n",
    "            \n",
    "            if (\"run(\" in task_name):\n",
    "                centroid_model_tasks.run_tasks.append(new_task)\n",
    "            elif (\"Filter\" in task_name):\n",
    "                centroid_model_tasks.checkpoint_tasks.append(new_task)\n",
    "            elif (\"Fit\" in task_name):\n",
    "                centroid_model_tasks.fit_tasks.append(new_task)\n",
    "            elif (\"Evaluate\" in task_name):\n",
    "                centroid_model_tasks.evaluate_tasks.append(new_task)\n",
    "                \n",
    "        elif (task_type == \"ClusterLRModels\"):\n",
    "            \n",
    "            if (\"run(\" in task_name):\n",
    "                \n",
    "                if task_cluster_id not in cluster_lr_model_tasks.run_tasks:\n",
    "                    cluster_lr_model_tasks.run_tasks[task_cluster_id] = [new_task]\n",
    "                else:\n",
    "                    cluster_lr_model_tasks.run_tasks[task_cluster_id].append(new_task)\n",
    "                    \n",
    "            elif (\"Cluster\" in task_name):\n",
    "                \n",
    "                if task_cluster_id not in cluster_lr_model_tasks.persist_tasks:\n",
    "                    cluster_lr_model_tasks.persist_tasks[task_cluster_id] = [new_task]\n",
    "                else:\n",
    "                    cluster_lr_model_tasks.persist_tasks[task_cluster_id].append(new_task)\n",
    "                    \n",
    "            elif (\"Filter\" in task_name):\n",
    "                \n",
    "                if task_cluster_id not in cluster_lr_model_tasks.checkpoint_tasks:\n",
    "                    cluster_lr_model_tasks.checkpoint_tasks[task_cluster_id] = [new_task]\n",
    "                else:\n",
    "                    cluster_lr_model_tasks.checkpoint_tasks[task_cluster_id].append(new_task)\n",
    "                    \n",
    "            elif (\"Fit\" in task_name):\n",
    "                \n",
    "                if task_cluster_id not in cluster_lr_model_tasks.fit_tasks:\n",
    "                    cluster_lr_model_tasks.fit_tasks[task_cluster_id] = [new_task]\n",
    "                else:\n",
    "                    cluster_lr_model_tasks.fit_tasks[task_cluster_id].append(new_task)\n",
    "                    \n",
    "            elif (\"Evaluate\" in task_name):\n",
    "                \n",
    "                if task_cluster_id not in cluster_lr_model_tasks.evaluate_tasks:\n",
    "                    cluster_lr_model_tasks.evaluate_tasks[task_cluster_id] = [new_task]\n",
    "                else:\n",
    "                    cluster_lr_model_tasks.evaluate_tasks[task_cluster_id].append(new_task)\n",
    "        "
   ]
  },
  {
   "cell_type": "code",
   "execution_count": 222,
   "metadata": {
    "scrolled": true
   },
   "outputs": [
    {
     "name": "stdout",
     "output_type": "stream",
     "text": [
      "Total time taken to train/evaluate 56 centroid models: 0:19:16.441000\n"
     ]
    },
    {
     "data": {
      "image/png": "[encoded data removed]",
      "text/plain": [
       "<Figure size 720x720 with 4 Axes>"
      ]
     },
     "metadata": {
      "needs_background": "light"
     },
     "output_type": "display_data"
    }
   ],
   "source": [
    "# ---- Centroid Models Plotting -----\n",
    "\n",
    "centroid_run_tasks = [task.time_seconds for task in centroid_model_tasks.run_tasks]\n",
    "centroid_checkpoint_tasks = [task.time_seconds for task in centroid_model_tasks.checkpoint_tasks]\n",
    "centroid_fit_tasks = [task.time_seconds for task in centroid_model_tasks.fit_tasks]\n",
    "centroid_eval_tasks = [task.time_seconds for task in centroid_model_tasks.evaluate_tasks]\n",
    "\n",
    "total_centroid_time = human_time(centroid_model_tasks.evaluate_tasks[-1].end \n",
    "                                 - centroid_model_tasks.run_tasks[0].begin)\n",
    "\n",
    "print(\"Total time taken to train/evaluate 56 centroid models:\", total_centroid_time)\n",
    "\n",
    "\n",
    "# Create a figure\n",
    "figure, axis = plt.subplots(2, 2, figsize=(10,10))\n",
    "\n",
    "\n",
    "# For Total End-to-End Time\n",
    "axis[0, 0].boxplot(centroid_run_tasks)\n",
    "axis[0, 0].set_title(\"Centroid Model E2E Time\")\n",
    "axis[0, 0].set_ylabel(\"Seconds\")\n",
    "axis[0, 0].set_xlabel(\"Experiment\")\n",
    "  \n",
    "# For Persist Task\n",
    "axis[0, 1].boxplot(centroid_checkpoint_tasks)\n",
    "axis[0, 1].set_title(centroid_model_tasks.checkpoint_tasks[0].name)\n",
    "axis[0, 1].set_ylabel(\"Seconds\")\n",
    "axis[0, 1].set_xlabel(\"Experiment\")\n",
    "  \n",
    "# For Split Test/Train Data and LR Fit\n",
    "axis[1, 0].boxplot(centroid_fit_tasks)\n",
    "axis[1, 0].set_title(centroid_model_tasks.fit_tasks[0].name)\n",
    "axis[1, 0].set_ylabel(\"Seconds\")\n",
    "axis[1, 0].set_xlabel(\"Experiment\")\n",
    "  \n",
    "# For Evaluate LR Model\n",
    "axis[1, 1].boxplot(centroid_eval_tasks)\n",
    "axis[1, 1].set_title(\"Evaluate LR Model Time\")\n",
    "axis[1, 1].set_ylabel(\"Seconds\")\n",
    "axis[1, 1].set_xlabel(\"Experiment\")\n",
    "\n",
    "# show plot\n",
    "plt.show()"
   ]
  },
  {
   "cell_type": "code",
   "execution_count": 252,
   "metadata": {},
   "outputs": [
    {
     "data": {
      "image/png": "[encoded data removed]",
      "text/plain": [
       "<Figure size 864x360 with 2 Axes>"
      ]
     },
     "metadata": {
      "needs_background": "light"
     },
     "output_type": "display_data"
    }
   ],
   "source": [
    "# ---- Cluster Transfer Learning Model Plotting -----\n",
    "\n",
    "clusters_run_time_seconds = [val[0].time_seconds for val in cluster_lr_model_tasks.run_tasks.values()]\n",
    "clusters_persist_seconds  = [val[0].time_seconds for val in cluster_lr_model_tasks.persist_tasks.values()]\n",
    "    \n",
    "# Create a figure\n",
    "figure, axis = plt.subplots(1, 2, figsize=(12,5))\n",
    "\n",
    "# For Cluster Training End-to-End Time\n",
    "axis[0].boxplot(clusters_run_time_seconds)\n",
    "axis[0].set_title(\"Complete Cluster Training E2E Time\")\n",
    "axis[0].set_ylabel(\"Seconds\")\n",
    "axis[0].set_xlabel(\"Experiment\")\n",
    "  \n",
    "# For Dataframe Transform & Persist\n",
    "axis[1].boxplot(clusters_persist_seconds)\n",
    "axis[1].set_title(\"Filter by Cluster GISJoins + Persist\")\n",
    "axis[1].set_ylabel(\"Seconds\")\n",
    "axis[1].set_xlabel(\"Experiment\")\n",
    "\n",
    "plt.show()"
   ]
  },
  {
   "cell_type": "code",
   "execution_count": 249,
   "metadata": {},
   "outputs": [
    {
     "data": {
      "image/png": "[encoded data removed]",
      "text/plain": [
       "<Figure size 864x504 with 1 Axes>"
      ]
     },
     "metadata": {
      "needs_background": "light"
     },
     "output_type": "display_data"
    }
   ],
   "source": [
    "num_steps = 4\n",
    "model_seconds = []\n",
    "for i in range(0, num_steps):\n",
    "    model_seconds.append([])\n",
    "    for cluster_id, tasks in cluster_lr_model_tasks.checkpoint_tasks.items():\n",
    "        model_seconds[i].append(tasks[i].time_seconds)\n",
    "\n",
    "plt.figure(figsize=(12,7))\n",
    "plt.boxplot(model_seconds)\n",
    "plt.title(\"Filter by GISJoin + Vector Transform + Split Test/Train + Checkpoint\")\n",
    "plt.ylabel(\"Seconds\")\n",
    "plt.xlabel(\"Cluster Model Queue Index\")\n",
    "plt.show()"
   ]
  },
  {
   "cell_type": "code",
   "execution_count": 248,
   "metadata": {},
   "outputs": [
    {
     "data": {
      "image/png": "[encoded data removed]",
      "text/plain": [
       "<Figure size 864x504 with 1 Axes>"
      ]
     },
     "metadata": {
      "needs_background": "light"
     },
     "output_type": "display_data"
    }
   ],
   "source": [
    "num_steps = 4\n",
    "model_seconds = []\n",
    "for i in range(0, num_steps):\n",
    "    model_seconds.append([])\n",
    "    for cluster_id, tasks in cluster_lr_model_tasks.fit_tasks.items():\n",
    "        model_seconds[i].append(tasks[i].time_seconds)\n",
    "\n",
    "plt.figure(figsize=(12,7))\n",
    "plt.boxplot(model_seconds)\n",
    "plt.title(\"Linear Regression Fit Times\")\n",
    "plt.ylabel(\"Seconds\")\n",
    "plt.xlabel(\"Cluster Model Queue Index\")\n",
    "plt.show()"
   ]
  },
  {
   "cell_type": "code",
   "execution_count": null,
   "metadata": {},
   "outputs": [],
   "source": [
    "gis_join_df = pd.read_csv(\"gis_join_collection.csv\", header=0)\n",
    "gis_join_df"
   ]
  }
 ],
 "metadata": {
  "kernelspec": {
   "display_name": "Python 3",
   "language": "python",
   "name": "python3"
  },
  "language_info": {
   "codemirror_mode": {
    "name": "ipython",
    "version": 3
   },
   "file_extension": ".py",
   "mimetype": "text/x-python",
   "name": "python",
   "nbconvert_exporter": "python",
   "pygments_lexer": "ipython3",
   "version": "3.8.5"
  }
 },
 "nbformat": 4,
 "nbformat_minor": 4
}
